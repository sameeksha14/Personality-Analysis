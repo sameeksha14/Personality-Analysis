{
 "cells": [
  {
   "cell_type": "code",
   "execution_count": 15,
   "metadata": {},
   "outputs": [],
   "source": [
    "#import all the required libraries\n",
    "import pandas as pd\n",
    "import numpy as np\n",
    "import re \n",
    "import nltk\n",
    "from nltk.sentiment.vader import SentimentIntensityAnalyzer"
   ]
  },
  {
   "cell_type": "code",
   "execution_count": 16,
   "metadata": {},
   "outputs": [],
   "source": [
    "DF = pd.read_csv('facebookdata.csv')# read .csv file using pandas\n"
   ]
  },
  {
   "cell_type": "code",
   "execution_count": 17,
   "metadata": {},
   "outputs": [],
   "source": [
    "dataframe = DF['status_message'] # extract the dataframe column containing status messages\n",
    "comment_list = list(dataframe)\n",
    "#comment_list\n"
   ]
  },
  {
   "cell_type": "code",
   "execution_count": 18,
   "metadata": {},
   "outputs": [],
   "source": [
    "# remove additional characters like all emojis based on their unicode  and substitute them with a blank space from list comment_list and store in a new list 'l'\n",
    "remove_emojis = re.compile(\"[\"\n",
    "         u\"\\U0001F600-\\U0001F64E\"  \n",
    "         u\"\\U0001F680-\\U0001F6FF\" \n",
    "         u\"\\U0001F300-\\U0001F5FF\" \n",
    "         u\"\\U0001F1E0-\\U0001F1FF\" \n",
    "         u\"\\U000024C2-\\U0001F251\"\n",
    "         u\"\\U00002702-\\U000027B0\"\n",
    "         u\"\\U0001F914\"                  \n",
    "         \"]+\", flags=re.UNICODE)\n",
    "l = remove_emojis.sub(r'',str(comment_list))\n"
   ]
  },
  {
   "cell_type": "code",
   "execution_count": 19,
   "metadata": {},
   "outputs": [],
   "source": [
    "res = l.strip('][').split('\\',') # split  back into individual comments in a list\n"
   ]
  },
  {
   "cell_type": "code",
   "execution_count": 20,
   "metadata": {},
   "outputs": [
    {
     "data": {
      "text/plain": [
       "' \\'\"If it was them in my shoes, would they turn down their dreams to play another year in college?\"'"
      ]
     },
     "execution_count": 20,
     "metadata": {},
     "output_type": "execute_result"
    }
   ],
   "source": [
    "res[8]"
   ]
  },
  {
   "cell_type": "code",
   "execution_count": 21,
   "metadata": {},
   "outputs": [],
   "source": [
    "def sentiment(list_element):\n",
    "   #analyze for positive ,negative and neutral messages using SentimentIntensityAnalyzer \n",
    "    sent = SentimentIntensityAnalyzer()\n",
    "    positive = []\n",
    "    neutral = []\n",
    "    negative = []\n",
    "\n",
    "    for comment in list_element:\n",
    "        if (sent.polarity_scores(comment)['compound']) > 0.5:\n",
    "            positive.append(comment)\n",
    "        elif (sent.polarity_scores(comment)['compound']) < -0.5:# check polarity of each comment using SentimentIntensityAnalyzer and if <=-0.5 append it to a list negative \n",
    "            negative.append(comment)\n",
    "        else:\n",
    "            neutral.append(comment)                \n",
    "    return positive,negative,neutral"
   ]
  },
  {
   "cell_type": "code",
   "execution_count": 22,
   "metadata": {
    "scrolled": true
   },
   "outputs": [],
   "source": [
    "positive,negative,neutral = sentiment(res)"
   ]
  },
  {
   "cell_type": "code",
   "execution_count": 43,
   "metadata": {},
   "outputs": [
    {
     "name": "stdout",
     "output_type": "stream",
     "text": [
      "negative comment  'The high demand forced them to cut the original time slot.\n"
     ]
    }
   ],
   "source": [
    "#print(\"negative comment\",negative)\n",
    "print(\"negative comment\",negative[1])"
   ]
  },
  {
   "cell_type": "code",
   "execution_count": 28,
   "metadata": {},
   "outputs": [],
   "source": [
    "#print(\"negative comment\",negative)"
   ]
  },
  {
   "cell_type": "code",
   "execution_count": 32,
   "metadata": {},
   "outputs": [],
   "source": [
    "test = ['My hand-writing is bad','I love to play with pets','I feel tired after running for 10 mins']"
   ]
  },
  {
   "cell_type": "code",
   "execution_count": 33,
   "metadata": {},
   "outputs": [],
   "source": [
    "positive_check,negative_check,neutral_check = sentiment(check)"
   ]
  },
  {
   "cell_type": "code",
   "execution_count": 34,
   "metadata": {},
   "outputs": [
    {
     "name": "stdout",
     "output_type": "stream",
     "text": [
      "positive_check  ['I love to play with pets'] \n",
      " negative_check ['My hand-writing is bad'] \n",
      " neutral_check ['I feel tired after running for 10 mins']\n"
     ]
    }
   ],
   "source": [
    "print(\"positive_check \",positive_check,\"\\n negative_check\",negative_check,\"\\n neutral_check\",neutral_check)"
   ]
  },
  {
   "cell_type": "code",
   "execution_count": 47,
   "metadata": {},
   "outputs": [],
   "source": [
    "#print(\"Neutral----\",neutral)"
   ]
  },
  {
   "cell_type": "code",
   "execution_count": null,
   "metadata": {},
   "outputs": [],
   "source": []
  }
 ],
 "metadata": {
  "kernelspec": {
   "display_name": "Python 3",
   "language": "python",
   "name": "python3"
  },
  "language_info": {
   "codemirror_mode": {
    "name": "ipython",
    "version": 3
   },
   "file_extension": ".py",
   "mimetype": "text/x-python",
   "name": "python",
   "nbconvert_exporter": "python",
   "pygments_lexer": "ipython3",
   "version": "3.7.3"
  }
 },
 "nbformat": 4,
 "nbformat_minor": 2
}
